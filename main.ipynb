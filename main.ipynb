{
 "cells": [
  {
   "cell_type": "code",
   "execution_count": 97,
   "metadata": {},
   "outputs": [],
   "source": [
    "import pandas as pd\n",
    "import matplotlib.pyplot as plt\n",
    "import datetime as datetime\n",
    "import csv"
   ]
  },
  {
   "cell_type": "markdown",
   "metadata": {},
   "source": [
    "Drop some unneccessary columns and stations from the data to reduce file size"
   ]
  },
  {
   "cell_type": "code",
   "execution_count": 104,
   "metadata": {},
   "outputs": [],
   "source": [
    "df=pd.read_csv(\"data/dublinbikes.csv\")\n",
    "df_james=df.loc[(df[\"STATION ID\"]==80)] #James hospital\n",
    "df_portobello=df.loc[(df[\"STATION ID\"]==43)] # portobello\n",
    "\n",
    "df_james.to_csv('data/dublinbikes_james_hospital.csv',index=False)\n",
    "df_portobello.to_csv('data/dublinbikes_portobello.csv',index=False)\n"
   ]
  },
  {
   "cell_type": "code",
   "execution_count": 94,
   "metadata": {},
   "outputs": [],
   "source": [
    "df=pd.read_csv(\"data/dublinbikes_compressed.csv\")\n",
    "\n",
    "\n",
    "\n",
    "df[\"TIME\"]=pd.to_datetime(df[\"TIME\"])\n",
    "df[\"LAST UPDATED\"]=pd.to_datetime(df[\"LAST UPDATED\"])\n",
    "\n",
    "df.sort_values(by=['TIME'],inplace=True)"
   ]
  },
  {
   "cell_type": "code",
   "execution_count": 95,
   "metadata": {},
   "outputs": [
    {
     "data": {
      "text/html": [
       "<div>\n",
       "<style scoped>\n",
       "    .dataframe tbody tr th:only-of-type {\n",
       "        vertical-align: middle;\n",
       "    }\n",
       "\n",
       "    .dataframe tbody tr th {\n",
       "        vertical-align: top;\n",
       "    }\n",
       "\n",
       "    .dataframe thead th {\n",
       "        text-align: right;\n",
       "    }\n",
       "</style>\n",
       "<table border=\"1\" class=\"dataframe\">\n",
       "  <thead>\n",
       "    <tr style=\"text-align: right;\">\n",
       "      <th></th>\n",
       "      <th>STATION ID</th>\n",
       "      <th>TIME</th>\n",
       "      <th>LAST UPDATED</th>\n",
       "      <th>NAME</th>\n",
       "      <th>BIKE STANDS</th>\n",
       "      <th>AVAILABLE BIKE STANDS</th>\n",
       "      <th>AVAILABLE BIKES</th>\n",
       "      <th>STATUS</th>\n",
       "      <th>GAP</th>\n",
       "    </tr>\n",
       "  </thead>\n",
       "  <tbody>\n",
       "    <tr>\n",
       "      <th>335</th>\n",
       "      <td>4</td>\n",
       "      <td>2020-01-01 06:25:02</td>\n",
       "      <td>2020-01-01 06:21:31</td>\n",
       "      <td>GREEK STREET</td>\n",
       "      <td>20</td>\n",
       "      <td>17</td>\n",
       "      <td>3</td>\n",
       "      <td>Open</td>\n",
       "      <td>False</td>\n",
       "    </tr>\n",
       "    <tr>\n",
       "      <th>336</th>\n",
       "      <td>4</td>\n",
       "      <td>2020-01-01 06:30:02</td>\n",
       "      <td>2020-01-01 06:21:31</td>\n",
       "      <td>GREEK STREET</td>\n",
       "      <td>20</td>\n",
       "      <td>17</td>\n",
       "      <td>3</td>\n",
       "      <td>Open</td>\n",
       "      <td>False</td>\n",
       "    </tr>\n",
       "    <tr>\n",
       "      <th>337</th>\n",
       "      <td>4</td>\n",
       "      <td>2020-01-01 06:35:02</td>\n",
       "      <td>2020-01-01 06:31:40</td>\n",
       "      <td>GREEK STREET</td>\n",
       "      <td>20</td>\n",
       "      <td>17</td>\n",
       "      <td>3</td>\n",
       "      <td>Open</td>\n",
       "      <td>False</td>\n",
       "    </tr>\n",
       "    <tr>\n",
       "      <th>338</th>\n",
       "      <td>4</td>\n",
       "      <td>2020-01-01 06:40:03</td>\n",
       "      <td>2020-01-01 06:31:40</td>\n",
       "      <td>GREEK STREET</td>\n",
       "      <td>20</td>\n",
       "      <td>17</td>\n",
       "      <td>3</td>\n",
       "      <td>Open</td>\n",
       "      <td>False</td>\n",
       "    </tr>\n",
       "    <tr>\n",
       "      <th>339</th>\n",
       "      <td>4</td>\n",
       "      <td>2020-01-01 06:45:02</td>\n",
       "      <td>2020-01-01 06:41:49</td>\n",
       "      <td>GREEK STREET</td>\n",
       "      <td>20</td>\n",
       "      <td>17</td>\n",
       "      <td>3</td>\n",
       "      <td>Open</td>\n",
       "      <td>False</td>\n",
       "    </tr>\n",
       "    <tr>\n",
       "      <th>...</th>\n",
       "      <td>...</td>\n",
       "      <td>...</td>\n",
       "      <td>...</td>\n",
       "      <td>...</td>\n",
       "      <td>...</td>\n",
       "      <td>...</td>\n",
       "      <td>...</td>\n",
       "      <td>...</td>\n",
       "      <td>...</td>\n",
       "    </tr>\n",
       "    <tr>\n",
       "      <th>543181</th>\n",
       "      <td>4</td>\n",
       "      <td>2020-04-01 23:35:02</td>\n",
       "      <td>2020-04-01 23:32:14</td>\n",
       "      <td>GREEK STREET</td>\n",
       "      <td>20</td>\n",
       "      <td>16</td>\n",
       "      <td>4</td>\n",
       "      <td>Open</td>\n",
       "      <td>False</td>\n",
       "    </tr>\n",
       "    <tr>\n",
       "      <th>543182</th>\n",
       "      <td>4</td>\n",
       "      <td>2020-04-01 23:40:02</td>\n",
       "      <td>2020-04-01 23:32:14</td>\n",
       "      <td>GREEK STREET</td>\n",
       "      <td>20</td>\n",
       "      <td>16</td>\n",
       "      <td>4</td>\n",
       "      <td>Open</td>\n",
       "      <td>False</td>\n",
       "    </tr>\n",
       "    <tr>\n",
       "      <th>543183</th>\n",
       "      <td>4</td>\n",
       "      <td>2020-04-01 23:45:02</td>\n",
       "      <td>2020-04-01 23:42:23</td>\n",
       "      <td>GREEK STREET</td>\n",
       "      <td>20</td>\n",
       "      <td>16</td>\n",
       "      <td>4</td>\n",
       "      <td>Open</td>\n",
       "      <td>False</td>\n",
       "    </tr>\n",
       "    <tr>\n",
       "      <th>543184</th>\n",
       "      <td>4</td>\n",
       "      <td>2020-04-01 23:50:03</td>\n",
       "      <td>2020-04-01 23:42:23</td>\n",
       "      <td>GREEK STREET</td>\n",
       "      <td>20</td>\n",
       "      <td>16</td>\n",
       "      <td>4</td>\n",
       "      <td>Open</td>\n",
       "      <td>False</td>\n",
       "    </tr>\n",
       "    <tr>\n",
       "      <th>543185</th>\n",
       "      <td>4</td>\n",
       "      <td>2020-04-01 23:55:02</td>\n",
       "      <td>2020-04-01 23:52:32</td>\n",
       "      <td>GREEK STREET</td>\n",
       "      <td>20</td>\n",
       "      <td>16</td>\n",
       "      <td>4</td>\n",
       "      <td>Open</td>\n",
       "      <td>False</td>\n",
       "    </tr>\n",
       "  </tbody>\n",
       "</table>\n",
       "<p>20375 rows × 9 columns</p>\n",
       "</div>"
      ],
      "text/plain": [
       "        STATION ID                TIME        LAST UPDATED          NAME  \\\n",
       "335              4 2020-01-01 06:25:02 2020-01-01 06:21:31  GREEK STREET   \n",
       "336              4 2020-01-01 06:30:02 2020-01-01 06:21:31  GREEK STREET   \n",
       "337              4 2020-01-01 06:35:02 2020-01-01 06:31:40  GREEK STREET   \n",
       "338              4 2020-01-01 06:40:03 2020-01-01 06:31:40  GREEK STREET   \n",
       "339              4 2020-01-01 06:45:02 2020-01-01 06:41:49  GREEK STREET   \n",
       "...            ...                 ...                 ...           ...   \n",
       "543181           4 2020-04-01 23:35:02 2020-04-01 23:32:14  GREEK STREET   \n",
       "543182           4 2020-04-01 23:40:02 2020-04-01 23:32:14  GREEK STREET   \n",
       "543183           4 2020-04-01 23:45:02 2020-04-01 23:42:23  GREEK STREET   \n",
       "543184           4 2020-04-01 23:50:03 2020-04-01 23:42:23  GREEK STREET   \n",
       "543185           4 2020-04-01 23:55:02 2020-04-01 23:52:32  GREEK STREET   \n",
       "\n",
       "        BIKE STANDS  AVAILABLE BIKE STANDS  AVAILABLE BIKES STATUS    GAP  \n",
       "335              20                     17                3   Open  False  \n",
       "336              20                     17                3   Open  False  \n",
       "337              20                     17                3   Open  False  \n",
       "338              20                     17                3   Open  False  \n",
       "339              20                     17                3   Open  False  \n",
       "...             ...                    ...              ...    ...    ...  \n",
       "543181           20                     16                4   Open  False  \n",
       "543182           20                     16                4   Open  False  \n",
       "543183           20                     16                4   Open  False  \n",
       "543184           20                     16                4   Open  False  \n",
       "543185           20                     16                4   Open  False  \n",
       "\n",
       "[20375 rows x 9 columns]"
      ]
     },
     "execution_count": 95,
     "metadata": {},
     "output_type": "execute_result"
    }
   ],
   "source": [
    "\n",
    "df[\"GAP\"]=df[\"TIME\"].diff().dt.seconds > (5*60 + 30)\n",
    "\n",
    "df"
   ]
  },
  {
   "cell_type": "code",
   "execution_count": 82,
   "metadata": {},
   "outputs": [
    {
     "data": {
      "text/plain": [
       "[<matplotlib.lines.Line2D at 0x7f41eaa7e400>]"
      ]
     },
     "execution_count": 82,
     "metadata": {},
     "output_type": "execute_result"
    },
    {
     "data": {
      "image/png": "[encoded data removed]",
      "text/plain": [
       "<Figure size 432x288 with 1 Axes>"
      ]
     },
     "metadata": {
      "needs_background": "light"
     },
     "output_type": "display_data"
    }
   ],
   "source": [
    "plt.plot(df[\"TIME\"],df[\"AVAILABLE BIKES\"])\n"
   ]
  },
  {
   "cell_type": "code",
   "execution_count": null,
   "metadata": {},
   "outputs": [],
   "source": []
  },
  {
   "cell_type": "code",
   "execution_count": null,
   "metadata": {},
   "outputs": [],
   "source": []
  }
 ],
 "metadata": {
  "interpreter": {
   "hash": "916dbcbb3f70747c44a77c7bcd40155683ae19c65e1c03b4aa3499c5328201f1"
  },
  "kernelspec": {
   "display_name": "Python 3.8.10 64-bit",
   "language": "python",
   "name": "python3"
  },
  "language_info": {
   "codemirror_mode": {
    "name": "ipython",
    "version": 3
   },
   "file_extension": ".py",
   "mimetype": "text/x-python",
   "name": "python",
   "nbconvert_exporter": "python",
   "pygments_lexer": "ipython3",
   "version": "3.8.10"
  },
  "orig_nbformat": 4
 },
 "nbformat": 4,
 "nbformat_minor": 2
}
