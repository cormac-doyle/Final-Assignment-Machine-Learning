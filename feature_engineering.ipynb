{
 "cells": [
  {
   "cell_type": "code",
   "execution_count": 105,
   "metadata": {},
   "outputs": [],
   "source": [
    "import pandas as pd\n",
    "import matplotlib.pyplot as plt\n",
    "import datetime as dt\n",
    "import numpy as np\n",
    "import csv\n",
    "from sklearn.linear_model import Ridge\n",
    "from sklearn.linear_model import Lasso\n",
    "from sklearn.linear_model import LinearRegression\n",
    "from sklearn.linear_model import LogisticRegression\n"
   ]
  },
  {
   "cell_type": "code",
   "execution_count": 106,
   "metadata": {},
   "outputs": [],
   "source": [
    "df_hospital=pd.read_csv(\"processed_data/dublinbikes_james_hospital.csv\")\n",
    "df_portobello=pd.read_csv(\"processed_data/dublinbikes_portobello.csv\")"
   ]
  },
  {
   "cell_type": "markdown",
   "metadata": {},
   "source": [
    "Thin out the data"
   ]
  },
  {
   "cell_type": "code",
   "execution_count": 108,
   "metadata": {},
   "outputs": [
    {
     "data": {
      "text/html": [
       "<div>\n",
       "<style scoped>\n",
       "    .dataframe tbody tr th:only-of-type {\n",
       "        vertical-align: middle;\n",
       "    }\n",
       "\n",
       "    .dataframe tbody tr th {\n",
       "        vertical-align: top;\n",
       "    }\n",
       "\n",
       "    .dataframe thead th {\n",
       "        text-align: right;\n",
       "    }\n",
       "</style>\n",
       "<table border=\"1\" class=\"dataframe\">\n",
       "  <thead>\n",
       "    <tr style=\"text-align: right;\">\n",
       "      <th></th>\n",
       "      <th>TIME</th>\n",
       "      <th>BIKE STANDS</th>\n",
       "      <th>AVAILABLE BIKES</th>\n",
       "    </tr>\n",
       "  </thead>\n",
       "  <tbody>\n",
       "    <tr>\n",
       "      <th>0</th>\n",
       "      <td>2020-01-28 00:00:02</td>\n",
       "      <td>40</td>\n",
       "      <td>20</td>\n",
       "    </tr>\n",
       "    <tr>\n",
       "      <th>2</th>\n",
       "      <td>2020-01-28 00:10:02</td>\n",
       "      <td>40</td>\n",
       "      <td>20</td>\n",
       "    </tr>\n",
       "    <tr>\n",
       "      <th>4</th>\n",
       "      <td>2020-01-28 00:20:02</td>\n",
       "      <td>40</td>\n",
       "      <td>20</td>\n",
       "    </tr>\n",
       "    <tr>\n",
       "      <th>6</th>\n",
       "      <td>2020-01-28 00:30:02</td>\n",
       "      <td>40</td>\n",
       "      <td>20</td>\n",
       "    </tr>\n",
       "    <tr>\n",
       "      <th>8</th>\n",
       "      <td>2020-01-28 00:40:02</td>\n",
       "      <td>40</td>\n",
       "      <td>20</td>\n",
       "    </tr>\n",
       "    <tr>\n",
       "      <th>...</th>\n",
       "      <td>...</td>\n",
       "      <td>...</td>\n",
       "      <td>...</td>\n",
       "    </tr>\n",
       "    <tr>\n",
       "      <th>12950</th>\n",
       "      <td>2020-03-12 23:10:02</td>\n",
       "      <td>40</td>\n",
       "      <td>23</td>\n",
       "    </tr>\n",
       "    <tr>\n",
       "      <th>12952</th>\n",
       "      <td>2020-03-12 23:20:02</td>\n",
       "      <td>40</td>\n",
       "      <td>22</td>\n",
       "    </tr>\n",
       "    <tr>\n",
       "      <th>12954</th>\n",
       "      <td>2020-03-12 23:30:02</td>\n",
       "      <td>40</td>\n",
       "      <td>22</td>\n",
       "    </tr>\n",
       "    <tr>\n",
       "      <th>12956</th>\n",
       "      <td>2020-03-12 23:40:02</td>\n",
       "      <td>40</td>\n",
       "      <td>22</td>\n",
       "    </tr>\n",
       "    <tr>\n",
       "      <th>12958</th>\n",
       "      <td>2020-03-12 23:50:02</td>\n",
       "      <td>40</td>\n",
       "      <td>22</td>\n",
       "    </tr>\n",
       "  </tbody>\n",
       "</table>\n",
       "<p>6480 rows × 3 columns</p>\n",
       "</div>"
      ],
      "text/plain": [
       "                      TIME  BIKE STANDS  AVAILABLE BIKES\n",
       "0      2020-01-28 00:00:02           40               20\n",
       "2      2020-01-28 00:10:02           40               20\n",
       "4      2020-01-28 00:20:02           40               20\n",
       "6      2020-01-28 00:30:02           40               20\n",
       "8      2020-01-28 00:40:02           40               20\n",
       "...                    ...          ...              ...\n",
       "12950  2020-03-12 23:10:02           40               23\n",
       "12952  2020-03-12 23:20:02           40               22\n",
       "12954  2020-03-12 23:30:02           40               22\n",
       "12956  2020-03-12 23:40:02           40               22\n",
       "12958  2020-03-12 23:50:02           40               22\n",
       "\n",
       "[6480 rows x 3 columns]"
      ]
     },
     "execution_count": 108,
     "metadata": {},
     "output_type": "execute_result"
    }
   ],
   "source": [
    "df_hospital=df_hospital.iloc[::2, :]\n",
    "df_portobello=df_portobello.iloc[::2, :]\n"
   ]
  },
  {
   "cell_type": "markdown",
   "metadata": {},
   "source": [
    "Lets get some basic features like day of week, weekend, time"
   ]
  },
  {
   "cell_type": "code",
   "execution_count": 109,
   "metadata": {},
   "outputs": [],
   "source": [
    "def get_basic_features(df:pd.DataFrame):\n",
    "    df[\"TIME\"]=pd.to_datetime(df[\"TIME\"])\n",
    "    df[\"DAY OF WEEK\"]=df[\"TIME\"].dt.dayofweek-1\n",
    "    df[\"HOUR\"]=df[\"TIME\"].dt.strftime(\"%H\").astype(int)\n",
    "    df[\"MINUTE\"]=df[\"TIME\"].dt.strftime(\"%M\").astype(int)\n",
    "\n",
    "    return df"
   ]
  },
  {
   "cell_type": "code",
   "execution_count": 110,
   "metadata": {},
   "outputs": [],
   "source": [
    "df_hospital_map={}\n",
    "df_portobello_map={}"
   ]
  },
  {
   "cell_type": "markdown",
   "metadata": {},
   "source": [
    "Lets add some more complex features using weekly, daily and short-term seasonality trends in the data"
   ]
  },
  {
   "cell_type": "markdown",
   "metadata": {},
   "source": [
    "For short term trends lets use intervals of 15 min, and get the last three intervals"
   ]
  },
  {
   "cell_type": "code",
   "execution_count": 111,
   "metadata": {},
   "outputs": [],
   "source": [
    "def get_trend_features(df:pd.DataFrame):\n",
    "    df[\"CURRENT AVAILABILITY\"] = df[\"AVAILABLE BIKES\"]\n",
    "    df[\"10MIN AGO\"] = df[\"AVAILABLE BIKES\"].shift(2)\n",
    "    df[\"20MIN AGO\"] = df[\"AVAILABLE BIKES\"].shift(4)\n",
    "    df[\"30MIN AGO\"] = df[\"AVAILABLE BIKES\"].shift(6)\n",
    "    df[\"60MIN AGO\"] = df[\"AVAILABLE BIKES\"].shift(12)\n",
    "\n",
    "    \n",
    "    df.dropna(inplace=True)\n",
    "    return df"
   ]
  },
  {
   "cell_type": "code",
   "execution_count": 112,
   "metadata": {},
   "outputs": [],
   "source": [
    "def shift_target_variable(df:pd.DataFrame, prediction_time : int):\n",
    "    df=df.copy(deep=True)\n",
    "    prediction_int = np.trunc(prediction_time/5) \n",
    "    prediction_int=prediction_int.astype(int)\n",
    "    df[\"CURRENT AVAILABILITY\"]=df[\"CURRENT AVAILABILITY\"].shift(prediction_int)\n",
    "    df[\"10MIN AGO\"]=df[\"10MIN AGO\"].shift(prediction_int)\n",
    "    df[\"20MIN AGO\"]=df[\"20MIN AGO\"].shift(prediction_int)\n",
    "    df[\"30MIN AGO\"] = df[\"30MIN AGO\"].shift(prediction_int)\n",
    "    df[\"60MIN AGO\"]= df[\"60MIN AGO\"].shift(prediction_int)\n",
    "    df.dropna(inplace=True)\n",
    "    df.drop(\"WEEKEND\",inplace=True,axis=1)\n",
    "    return df"
   ]
  },
  {
   "cell_type": "code",
   "execution_count": 113,
   "metadata": {},
   "outputs": [],
   "source": [
    "def get_seasonal_features(df:pd.DataFrame):\n",
    "\n",
    "    df[\"ONE WEEKDAY AGO\"] = df.loc[df[\"WEEKEND\"]==False][\"AVAILABLE BIKES\"].shift(12*24).dropna()\n",
    "    df[\"ONE WEEKDAY AGO\"].fillna(0,inplace=True)\n",
    "    df[\"ONE WEEKENDDAY AGO\"] = df.loc[df[\"WEEKEND\"]==True][\"AVAILABLE BIKES\"].shift(12*24).dropna()\n",
    "    df[\"ONE WEEKENDDAY AGO\"].fillna(0, inplace=True)\n",
    "    df[\"1 DAY AGO\"] = df[\"ONE WEEKDAY AGO\"] + df[\"ONE WEEKENDDAY AGO\"]\n",
    "\n",
    "    df[\"2 WEEKDAY AGO\"] = df.loc[df[\"WEEKEND\"]==False][\"AVAILABLE BIKES\"].shift(12*24*2).dropna()\n",
    "    df[\"2 WEEKDAY AGO\"].fillna(0,inplace=True)\n",
    "    df[\"2 WEEKENDDAY AGO\"] = df.loc[df[\"WEEKEND\"]==True][\"AVAILABLE BIKES\"].shift(12*24*2).dropna()\n",
    "    df[\"2 WEEKENDDAY AGO\"].fillna(0, inplace=True)\n",
    "    \n",
    "    df[\"2 DAYS AGO\"] = df[\"2 WEEKDAY AGO\"] + df[\"2 WEEKENDDAY AGO\"]\n",
    "\n",
    "    df.drop([\"2 WEEKENDDAY AGO\",\"2 WEEKDAY AGO\",\"ONE WEEKDAY AGO\",\"ONE WEEKENDDAY AGO\"],inplace=True,axis=1)\n",
    "\n",
    "    df[\"1 WEEK AGO\"] = df[\"AVAILABLE BIKES\"].shift(12*24*7)\n",
    "\n",
    "    df.dropna(inplace=True)\n",
    "    return df"
   ]
  },
  {
   "cell_type": "code",
   "execution_count": 114,
   "metadata": {},
   "outputs": [],
   "source": [
    "def normalize_features(df:pd.DataFrame):\n",
    "    df[\"AVAILABLE BIKES\"] = df[\"AVAILABLE BIKES\"]/df[\"BIKE STANDS\"]\n",
    "    \"\"\"df[\"DAY OF WEEK\"] = df[\"DAY OF WEEK\"] / 6\n",
    "    df[\"HOUR\"] = df[\"HOUR\"] / max(df[\"HOUR\"])\n",
    "    df[\"MINUTE\"] = df[\"MINUTE\"] / max(df[\"MINUTE\"])\"\"\"\n",
    "    return df"
   ]
  },
  {
   "cell_type": "code",
   "execution_count": 115,
   "metadata": {},
   "outputs": [],
   "source": [
    "def calc_weekend_column(df):\n",
    "    df[\"TIME\"]=pd.to_datetime(df[\"TIME\"])\n",
    "    df[\"WEEKEND\"] = df[\"TIME\"].dt.dayofweek >=5\n",
    "    return df\n"
   ]
  },
  {
   "cell_type": "code",
   "execution_count": null,
   "metadata": {},
   "outputs": [],
   "source": []
  },
  {
   "cell_type": "code",
   "execution_count": 116,
   "metadata": {},
   "outputs": [
    {
     "data": {
      "text/plain": [
       "'df_hospital_map[\"30MIN\"] = df_hospital_map[\"30MIN\"].iloc[:-4]\\ndf_portobello_map[\"30MIN\"]= df_portobello_map[\"30MIN\"].iloc[:-4]\\ndf_hospital_map[\"10MIN\"] = df_hospital_map[\"10MIN\"].iloc[:-8]\\ndf_portobello_map[\"10MIN\"]= df_portobello_map[\"10MIN\"].iloc[:-8]'"
      ]
     },
     "execution_count": 116,
     "metadata": {},
     "output_type": "execute_result"
    }
   ],
   "source": [
    "\n",
    "calc_weekend_column(df_hospital)\n",
    "calc_weekend_column(df_portobello)\n",
    "\n",
    "df_hospital.set_index(\"TIME\",inplace=True,drop=True)\n",
    "df_portobello.set_index(\"TIME\",inplace=True,drop=True)\n",
    "\n",
    "\n",
    "df_hospital=normalize_features(df_hospital)\n",
    "df_portobello=normalize_features(df_portobello)\n",
    "\n",
    "\n",
    "df_hospital=get_trend_features(df_hospital)\n",
    "df_portobello=get_trend_features(df_portobello)\n",
    "\n",
    "\n",
    "keys = [\"10MIN\",\"30MIN\",\"60MIN\"]\n",
    "for key in keys:\n",
    "    df_hospital_map[key] = get_seasonal_features(df_hospital)\n",
    "    df_portobello_map[key] = get_seasonal_features(df_portobello)\n",
    "\n",
    "\n",
    "\n",
    "df_hospital_map[\"10MIN\"]=shift_target_variable(df_hospital_map[\"10MIN\"], prediction_time = 10)\n",
    "df_portobello_map[\"10MIN\"]=shift_target_variable(df_portobello_map[\"10MIN\"], prediction_time = 10)\n",
    "\n",
    "df_hospital_map[\"30MIN\"]=shift_target_variable(df_hospital_map[\"30MIN\"], prediction_time = 30)\n",
    "df_portobello_map[\"30MIN\"]=shift_target_variable(df_portobello_map[\"30MIN\"], prediction_time = 30)\n",
    "\n",
    "df_hospital_map[\"60MIN\"]=shift_target_variable(df_hospital_map[\"60MIN\"], prediction_time = 60)\n",
    "df_portobello_map[\"60MIN\"]=shift_target_variable(df_portobello_map[\"60MIN\"], prediction_time =  60)\n",
    "\n",
    "\n",
    "\"\"\"df_hospital_map[\"30MIN\"] = df_hospital_map[\"30MIN\"].iloc[:-4]\n",
    "df_portobello_map[\"30MIN\"]= df_portobello_map[\"30MIN\"].iloc[:-4]\n",
    "df_hospital_map[\"10MIN\"] = df_hospital_map[\"10MIN\"].iloc[:-8]\n",
    "df_portobello_map[\"10MIN\"]= df_portobello_map[\"10MIN\"].iloc[:-8]\"\"\"\n",
    "\n"
   ]
  },
  {
   "cell_type": "code",
   "execution_count": 117,
   "metadata": {},
   "outputs": [],
   "source": [
    "def get_X_and_y(df:map):\n",
    "    X={}\n",
    "    y={}\n",
    "    y[\"10MIN\"]=df[\"10MIN\"][\"AVAILABLE BIKES\"]\n",
    "    X[\"10MIN\"] = df[\"10MIN\"].drop(axis=1,columns=[\"BIKE STANDS\",\"AVAILABLE BIKES\"])\n",
    "    y[\"30MIN\"]=df[\"30MIN\"][\"AVAILABLE BIKES\"]\n",
    "    X[\"30MIN\"] = df[\"30MIN\"].drop(axis=1,columns=[\"BIKE STANDS\",\"AVAILABLE BIKES\"])\n",
    "    y[\"60MIN\"]=df[\"60MIN\"][\"AVAILABLE BIKES\"]\n",
    "    X[\"60MIN\"] = df[\"60MIN\"].drop(axis=1,columns=[\"BIKE STANDS\",\"AVAILABLE BIKES\"])\n",
    "    return X,y"
   ]
  },
  {
   "cell_type": "code",
   "execution_count": 118,
   "metadata": {},
   "outputs": [],
   "source": [
    "X_portobello,y_portobello=get_X_and_y(df_portobello_map)\n",
    "X_hospital,y_hospital=get_X_and_y(df_hospital_map)\n"
   ]
  },
  {
   "cell_type": "code",
   "execution_count": 119,
   "metadata": {},
   "outputs": [],
   "source": [
    "ridge_model_portobello = {}\n",
    "ridge_model_hospital = {}\n",
    "\n",
    "for key in X_portobello.keys():\n",
    "    ridge_model_portobello[key]=Ridge().fit(X_portobello[key],y_portobello[key])\n",
    "    ridge_model_hospital[key]=Ridge().fit(X_hospital[key],y_hospital[key])\n",
    "\n"
   ]
  },
  {
   "cell_type": "code",
   "execution_count": 120,
   "metadata": {},
   "outputs": [
    {
     "data": {
      "text/plain": [
       "array([ 0.92485949, -0.09019769, -0.0509534 , -0.05025273,  0.07607831,\n",
       "        0.11708377,  0.02135197,  0.03930217])"
      ]
     },
     "execution_count": 120,
     "metadata": {},
     "output_type": "execute_result"
    }
   ],
   "source": [
    "ridge_model_hospital[\"60MIN\"].coef_"
   ]
  },
  {
   "cell_type": "code",
   "execution_count": 121,
   "metadata": {},
   "outputs": [
    {
     "data": {
      "text/html": [
       "<div>\n",
       "<style scoped>\n",
       "    .dataframe tbody tr th:only-of-type {\n",
       "        vertical-align: middle;\n",
       "    }\n",
       "\n",
       "    .dataframe tbody tr th {\n",
       "        vertical-align: top;\n",
       "    }\n",
       "\n",
       "    .dataframe thead th {\n",
       "        text-align: right;\n",
       "    }\n",
       "</style>\n",
       "<table border=\"1\" class=\"dataframe\">\n",
       "  <thead>\n",
       "    <tr style=\"text-align: right;\">\n",
       "      <th></th>\n",
       "      <th>10 Min Prediciton</th>\n",
       "      <th>30 Min Prediciton</th>\n",
       "      <th>60 Min Prediciton</th>\n",
       "    </tr>\n",
       "    <tr>\n",
       "      <th>Feature Name</th>\n",
       "      <th></th>\n",
       "      <th></th>\n",
       "      <th></th>\n",
       "    </tr>\n",
       "  </thead>\n",
       "  <tbody>\n",
       "    <tr>\n",
       "      <th>CURRENT AVAILABILITY</th>\n",
       "      <td>1.056191</td>\n",
       "      <td>1.009736</td>\n",
       "      <td>0.924859</td>\n",
       "    </tr>\n",
       "    <tr>\n",
       "      <th>10MIN AGO</th>\n",
       "      <td>-0.064506</td>\n",
       "      <td>-0.078417</td>\n",
       "      <td>-0.090198</td>\n",
       "    </tr>\n",
       "    <tr>\n",
       "      <th>20MIN AGO</th>\n",
       "      <td>-0.023510</td>\n",
       "      <td>-0.007830</td>\n",
       "      <td>-0.050953</td>\n",
       "    </tr>\n",
       "    <tr>\n",
       "      <th>30MIN AGO</th>\n",
       "      <td>0.008986</td>\n",
       "      <td>-0.031105</td>\n",
       "      <td>-0.050253</td>\n",
       "    </tr>\n",
       "    <tr>\n",
       "      <th>60MIN AGO</th>\n",
       "      <td>-0.008401</td>\n",
       "      <td>0.008124</td>\n",
       "      <td>0.076078</td>\n",
       "    </tr>\n",
       "    <tr>\n",
       "      <th>1 DAY AGO</th>\n",
       "      <td>0.016647</td>\n",
       "      <td>0.057886</td>\n",
       "      <td>0.117084</td>\n",
       "    </tr>\n",
       "    <tr>\n",
       "      <th>2 DAYS AGO</th>\n",
       "      <td>-0.000225</td>\n",
       "      <td>0.006152</td>\n",
       "      <td>0.021352</td>\n",
       "    </tr>\n",
       "    <tr>\n",
       "      <th>1 WEEK AGO</th>\n",
       "      <td>0.003216</td>\n",
       "      <td>0.016920</td>\n",
       "      <td>0.039302</td>\n",
       "    </tr>\n",
       "  </tbody>\n",
       "</table>\n",
       "</div>"
      ],
      "text/plain": [
       "                      10 Min Prediciton  30 Min Prediciton  60 Min Prediciton\n",
       "Feature Name                                                                 \n",
       "CURRENT AVAILABILITY           1.056191           1.009736           0.924859\n",
       "10MIN AGO                     -0.064506          -0.078417          -0.090198\n",
       "20MIN AGO                     -0.023510          -0.007830          -0.050953\n",
       "30MIN AGO                      0.008986          -0.031105          -0.050253\n",
       "60MIN AGO                     -0.008401           0.008124           0.076078\n",
       "1 DAY AGO                      0.016647           0.057886           0.117084\n",
       "2 DAYS AGO                    -0.000225           0.006152           0.021352\n",
       "1 WEEK AGO                     0.003216           0.016920           0.039302"
      ]
     },
     "execution_count": 121,
     "metadata": {},
     "output_type": "execute_result"
    }
   ],
   "source": [
    "\n",
    "\n",
    "hospital_features_df=pd.DataFrame({\"Feature Name\":ridge_model_hospital[\"10MIN\"].feature_names_in_,\n",
    "\"10 Min Prediciton\":ridge_model_hospital[\"10MIN\"].coef_,\n",
    "\"30 Min Prediciton\":ridge_model_hospital[\"30MIN\"].coef_,\n",
    "\"60 Min Prediciton\":ridge_model_hospital[\"60MIN\"].coef_\n",
    "})\n",
    "\n",
    "portobello_features_df=pd.DataFrame({\"Feature Name\":ridge_model_hospital[\"10MIN\"].feature_names_in_,\n",
    "\"10 Min Prediciton\":ridge_model_portobello[\"10MIN\"].coef_,\n",
    "\"30 Min Prediciton\":ridge_model_portobello[\"30MIN\"].coef_,\n",
    "\"60 Min Prediciton\":ridge_model_portobello[\"60MIN\"].coef_\n",
    "})\n",
    "\n",
    "hospital_features_df.set_index(\"Feature Name\",inplace=True)\n",
    "portobello_features_df.set_index(\"Feature Name\",inplace=True)\n",
    "\n",
    "\n",
    "hospital_features_df"
   ]
  },
  {
   "cell_type": "code",
   "execution_count": 122,
   "metadata": {},
   "outputs": [
    {
     "data": {
      "text/plain": [
       "Text(0.5, 1.0, 'St James Hospital Bike Station')"
      ]
     },
     "execution_count": 122,
     "metadata": {},
     "output_type": "execute_result"
    },
    {
     "data": {
      "image/png": "[encoded data removed]",
      "text/plain": [
       "<Figure size 1440x360 with 1 Axes>"
      ]
     },
     "metadata": {
      "needs_background": "light"
     },
     "output_type": "display_data"
    }
   ],
   "source": [
    "plt.rc('font',size=20)\n",
    "hospital_features_df.plot.bar(figsize=(20,5))\n",
    "plt.ylabel(\"Ridge Regression Model Coefficient\")\n",
    "plt.title(\"St James Hospital Bike Station\")"
   ]
  },
  {
   "cell_type": "code",
   "execution_count": 123,
   "metadata": {},
   "outputs": [
    {
     "data": {
      "text/plain": [
       "Text(0.5, 1.0, 'Portobello Bike Station')"
      ]
     },
     "execution_count": 123,
     "metadata": {},
     "output_type": "execute_result"
    },
    {
     "data": {
      "image/png": "[encoded data removed]",
      "text/plain": [
       "<Figure size 1440x360 with 1 Axes>"
      ]
     },
     "metadata": {
      "needs_background": "light"
     },
     "output_type": "display_data"
    }
   ],
   "source": [
    "plt.rc('font',size=20)\n",
    "portobello_features_df.plot.bar(figsize=(20,5))\n",
    "plt.ylabel(\"Ridge Regression Model Coefficient\")\n",
    "plt.title(\"Portobello Bike Station\")"
   ]
  },
  {
   "cell_type": "markdown",
   "metadata": {},
   "source": [
    "Lets drop the irrelevant fields based on our bar charts"
   ]
  },
  {
   "cell_type": "code",
   "execution_count": 124,
   "metadata": {},
   "outputs": [
    {
     "data": {
      "text/html": [
       "<div>\n",
       "<style scoped>\n",
       "    .dataframe tbody tr th:only-of-type {\n",
       "        vertical-align: middle;\n",
       "    }\n",
       "\n",
       "    .dataframe tbody tr th {\n",
       "        vertical-align: top;\n",
       "    }\n",
       "\n",
       "    .dataframe thead th {\n",
       "        text-align: right;\n",
       "    }\n",
       "</style>\n",
       "<table border=\"1\" class=\"dataframe\">\n",
       "  <thead>\n",
       "    <tr style=\"text-align: right;\">\n",
       "      <th></th>\n",
       "      <th>BIKE STANDS</th>\n",
       "      <th>AVAILABLE BIKES</th>\n",
       "      <th>CURRENT AVAILABILITY</th>\n",
       "      <th>10MIN AGO</th>\n",
       "      <th>20MIN AGO</th>\n",
       "      <th>30MIN AGO</th>\n",
       "      <th>60MIN AGO</th>\n",
       "      <th>1 DAY AGO</th>\n",
       "      <th>2 DAYS AGO</th>\n",
       "      <th>1 WEEK AGO</th>\n",
       "    </tr>\n",
       "    <tr>\n",
       "      <th>TIME</th>\n",
       "      <th></th>\n",
       "      <th></th>\n",
       "      <th></th>\n",
       "      <th></th>\n",
       "      <th></th>\n",
       "      <th></th>\n",
       "      <th></th>\n",
       "      <th></th>\n",
       "      <th></th>\n",
       "      <th></th>\n",
       "    </tr>\n",
       "  </thead>\n",
       "  <tbody>\n",
       "    <tr>\n",
       "      <th>2020-02-18 01:10:02</th>\n",
       "      <td>30</td>\n",
       "      <td>1.000000</td>\n",
       "      <td>1.000000</td>\n",
       "      <td>1.0</td>\n",
       "      <td>1.000000</td>\n",
       "      <td>1.000000</td>\n",
       "      <td>1.000000</td>\n",
       "      <td>0.733333</td>\n",
       "      <td>0.833333</td>\n",
       "      <td>0.566667</td>\n",
       "    </tr>\n",
       "    <tr>\n",
       "      <th>2020-02-18 01:15:02</th>\n",
       "      <td>30</td>\n",
       "      <td>1.000000</td>\n",
       "      <td>1.000000</td>\n",
       "      <td>1.0</td>\n",
       "      <td>1.000000</td>\n",
       "      <td>1.000000</td>\n",
       "      <td>1.000000</td>\n",
       "      <td>0.733333</td>\n",
       "      <td>0.833333</td>\n",
       "      <td>0.566667</td>\n",
       "    </tr>\n",
       "    <tr>\n",
       "      <th>2020-02-18 01:20:02</th>\n",
       "      <td>30</td>\n",
       "      <td>1.000000</td>\n",
       "      <td>1.000000</td>\n",
       "      <td>1.0</td>\n",
       "      <td>1.000000</td>\n",
       "      <td>1.000000</td>\n",
       "      <td>1.000000</td>\n",
       "      <td>0.733333</td>\n",
       "      <td>0.833333</td>\n",
       "      <td>0.566667</td>\n",
       "    </tr>\n",
       "    <tr>\n",
       "      <th>2020-02-18 01:25:02</th>\n",
       "      <td>30</td>\n",
       "      <td>1.000000</td>\n",
       "      <td>1.000000</td>\n",
       "      <td>1.0</td>\n",
       "      <td>1.000000</td>\n",
       "      <td>1.000000</td>\n",
       "      <td>1.000000</td>\n",
       "      <td>0.733333</td>\n",
       "      <td>0.833333</td>\n",
       "      <td>0.566667</td>\n",
       "    </tr>\n",
       "    <tr>\n",
       "      <th>2020-02-18 01:30:02</th>\n",
       "      <td>30</td>\n",
       "      <td>1.000000</td>\n",
       "      <td>1.000000</td>\n",
       "      <td>1.0</td>\n",
       "      <td>1.000000</td>\n",
       "      <td>1.000000</td>\n",
       "      <td>1.000000</td>\n",
       "      <td>0.733333</td>\n",
       "      <td>0.833333</td>\n",
       "      <td>0.566667</td>\n",
       "    </tr>\n",
       "    <tr>\n",
       "      <th>...</th>\n",
       "      <td>...</td>\n",
       "      <td>...</td>\n",
       "      <td>...</td>\n",
       "      <td>...</td>\n",
       "      <td>...</td>\n",
       "      <td>...</td>\n",
       "      <td>...</td>\n",
       "      <td>...</td>\n",
       "      <td>...</td>\n",
       "      <td>...</td>\n",
       "    </tr>\n",
       "    <tr>\n",
       "      <th>2020-03-12 23:35:02</th>\n",
       "      <td>30</td>\n",
       "      <td>0.800000</td>\n",
       "      <td>0.800000</td>\n",
       "      <td>0.8</td>\n",
       "      <td>0.733333</td>\n",
       "      <td>0.733333</td>\n",
       "      <td>0.733333</td>\n",
       "      <td>0.933333</td>\n",
       "      <td>0.966667</td>\n",
       "      <td>1.000000</td>\n",
       "    </tr>\n",
       "    <tr>\n",
       "      <th>2020-03-12 23:40:02</th>\n",
       "      <td>30</td>\n",
       "      <td>0.833333</td>\n",
       "      <td>0.800000</td>\n",
       "      <td>0.8</td>\n",
       "      <td>0.766667</td>\n",
       "      <td>0.733333</td>\n",
       "      <td>0.733333</td>\n",
       "      <td>0.966667</td>\n",
       "      <td>0.933333</td>\n",
       "      <td>1.000000</td>\n",
       "    </tr>\n",
       "    <tr>\n",
       "      <th>2020-03-12 23:45:02</th>\n",
       "      <td>30</td>\n",
       "      <td>0.866667</td>\n",
       "      <td>0.800000</td>\n",
       "      <td>0.8</td>\n",
       "      <td>0.800000</td>\n",
       "      <td>0.733333</td>\n",
       "      <td>0.733333</td>\n",
       "      <td>1.000000</td>\n",
       "      <td>0.933333</td>\n",
       "      <td>1.000000</td>\n",
       "    </tr>\n",
       "    <tr>\n",
       "      <th>2020-03-12 23:50:02</th>\n",
       "      <td>30</td>\n",
       "      <td>0.866667</td>\n",
       "      <td>0.833333</td>\n",
       "      <td>0.8</td>\n",
       "      <td>0.800000</td>\n",
       "      <td>0.766667</td>\n",
       "      <td>0.733333</td>\n",
       "      <td>1.000000</td>\n",
       "      <td>0.933333</td>\n",
       "      <td>1.000000</td>\n",
       "    </tr>\n",
       "    <tr>\n",
       "      <th>2020-03-12 23:55:02</th>\n",
       "      <td>30</td>\n",
       "      <td>0.866667</td>\n",
       "      <td>0.866667</td>\n",
       "      <td>0.8</td>\n",
       "      <td>0.800000</td>\n",
       "      <td>0.800000</td>\n",
       "      <td>0.733333</td>\n",
       "      <td>1.000000</td>\n",
       "      <td>0.933333</td>\n",
       "      <td>1.000000</td>\n",
       "    </tr>\n",
       "  </tbody>\n",
       "</table>\n",
       "<p>6898 rows × 10 columns</p>\n",
       "</div>"
      ],
      "text/plain": [
       "                     BIKE STANDS  AVAILABLE BIKES  CURRENT AVAILABILITY  \\\n",
       "TIME                                                                      \n",
       "2020-02-18 01:10:02           30         1.000000              1.000000   \n",
       "2020-02-18 01:15:02           30         1.000000              1.000000   \n",
       "2020-02-18 01:20:02           30         1.000000              1.000000   \n",
       "2020-02-18 01:25:02           30         1.000000              1.000000   \n",
       "2020-02-18 01:30:02           30         1.000000              1.000000   \n",
       "...                          ...              ...                   ...   \n",
       "2020-03-12 23:35:02           30         0.800000              0.800000   \n",
       "2020-03-12 23:40:02           30         0.833333              0.800000   \n",
       "2020-03-12 23:45:02           30         0.866667              0.800000   \n",
       "2020-03-12 23:50:02           30         0.866667              0.833333   \n",
       "2020-03-12 23:55:02           30         0.866667              0.866667   \n",
       "\n",
       "                     10MIN AGO  20MIN AGO  30MIN AGO  60MIN AGO  1 DAY AGO  \\\n",
       "TIME                                                                         \n",
       "2020-02-18 01:10:02        1.0   1.000000   1.000000   1.000000   0.733333   \n",
       "2020-02-18 01:15:02        1.0   1.000000   1.000000   1.000000   0.733333   \n",
       "2020-02-18 01:20:02        1.0   1.000000   1.000000   1.000000   0.733333   \n",
       "2020-02-18 01:25:02        1.0   1.000000   1.000000   1.000000   0.733333   \n",
       "2020-02-18 01:30:02        1.0   1.000000   1.000000   1.000000   0.733333   \n",
       "...                        ...        ...        ...        ...        ...   \n",
       "2020-03-12 23:35:02        0.8   0.733333   0.733333   0.733333   0.933333   \n",
       "2020-03-12 23:40:02        0.8   0.766667   0.733333   0.733333   0.966667   \n",
       "2020-03-12 23:45:02        0.8   0.800000   0.733333   0.733333   1.000000   \n",
       "2020-03-12 23:50:02        0.8   0.800000   0.766667   0.733333   1.000000   \n",
       "2020-03-12 23:55:02        0.8   0.800000   0.800000   0.733333   1.000000   \n",
       "\n",
       "                     2 DAYS AGO  1 WEEK AGO  \n",
       "TIME                                         \n",
       "2020-02-18 01:10:02    0.833333    0.566667  \n",
       "2020-02-18 01:15:02    0.833333    0.566667  \n",
       "2020-02-18 01:20:02    0.833333    0.566667  \n",
       "2020-02-18 01:25:02    0.833333    0.566667  \n",
       "2020-02-18 01:30:02    0.833333    0.566667  \n",
       "...                         ...         ...  \n",
       "2020-03-12 23:35:02    0.966667    1.000000  \n",
       "2020-03-12 23:40:02    0.933333    1.000000  \n",
       "2020-03-12 23:45:02    0.933333    1.000000  \n",
       "2020-03-12 23:50:02    0.933333    1.000000  \n",
       "2020-03-12 23:55:02    0.933333    1.000000  \n",
       "\n",
       "[6898 rows x 10 columns]"
      ]
     },
     "execution_count": 124,
     "metadata": {},
     "output_type": "execute_result"
    }
   ],
   "source": [
    "df_portobello_map[\"10MIN\"]"
   ]
  },
  {
   "cell_type": "code",
   "execution_count": 125,
   "metadata": {},
   "outputs": [],
   "source": [
    "df_hospital_map[\"10MIN\"].drop([\"30MIN AGO\", \"60MIN AGO\", \"1 DAY AGO\", \"2 DAYS AGO\", \"1 WEEK AGO\"], axis=1,inplace=True)\n",
    "df_hospital_map[\"30MIN\"].drop([\"20MIN AGO\", \"60MIN AGO\", \"2 DAYS AGO\", \"1 WEEK AGO\"], axis=1,inplace=True)\n",
    "df_hospital_map[\"60MIN\"].drop([\"2 DAYS AGO\", \"1 WEEK AGO\"], axis=1,inplace=True)\n"
   ]
  },
  {
   "cell_type": "code",
   "execution_count": 126,
   "metadata": {},
   "outputs": [],
   "source": [
    "df_portobello_map[\"10MIN\"].drop([\"20MIN AGO\", \"60MIN AGO\", \"1 DAY AGO\", \"2 DAYS AGO\", \"1 WEEK AGO\"], axis=1,inplace=True)\n",
    "df_portobello_map[\"30MIN\"].drop([\"20MIN AGO\", \"60MIN AGO\",\"30MIN AGO\"], axis=1,inplace=True)\n",
    "df_portobello_map[\"60MIN\"].drop([\"20MIN AGO\",\"30MIN AGO\",\"60MIN AGO\"], axis=1,inplace=True)\n"
   ]
  },
  {
   "cell_type": "code",
   "execution_count": 127,
   "metadata": {},
   "outputs": [],
   "source": [
    "X_portobello,y_portobello=get_X_and_y(df_portobello_map)\n",
    "X_hospital,y_hospital=get_X_and_y(df_hospital_map)"
   ]
  }
 ],
 "metadata": {
  "interpreter": {
   "hash": "916dbcbb3f70747c44a77c7bcd40155683ae19c65e1c03b4aa3499c5328201f1"
  },
  "kernelspec": {
   "display_name": "Python 3.8.10 64-bit",
   "language": "python",
   "name": "python3"
  },
  "language_info": {
   "codemirror_mode": {
    "name": "ipython",
    "version": 3
   },
   "file_extension": ".py",
   "mimetype": "text/x-python",
   "name": "python",
   "nbconvert_exporter": "python",
   "pygments_lexer": "ipython3",
   "version": "3.10.0"
  },
  "orig_nbformat": 4
 },
 "nbformat": 4,
 "nbformat_minor": 2
}
